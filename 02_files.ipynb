{
 "cells": [
  {
   "cell_type": "code",
   "execution_count": 1,
   "metadata": {
    "collapsed": false
   },
   "outputs": [],
   "source": [
    "%config IPCompleter.greedy = True"
   ]
  },
  {
   "cell_type": "markdown",
   "metadata": {},
   "source": [
    "## Reading txt Files"
   ]
  },
  {
   "cell_type": "markdown",
   "metadata": {},
   "source": [
    "### Step by step "
   ]
  },
  {
   "cell_type": "markdown",
   "metadata": {},
   "source": [
    "##### Open File "
   ]
  },
  {
   "cell_type": "code",
   "execution_count": 2,
   "metadata": {
    "collapsed": false
   },
   "outputs": [],
   "source": [
    "filename = 'data/example_read.txt'\n",
    "fobj = open(filename)"
   ]
  },
  {
   "cell_type": "markdown",
   "metadata": {},
   "source": [
    "##### Read content as str"
   ]
  },
  {
   "cell_type": "code",
   "execution_count": 3,
   "metadata": {
    "collapsed": false
   },
   "outputs": [
    {
     "name": "stdout",
     "output_type": "stream",
     "text": [
      "      _    _\n",
      "   ,-(|)--(|)-.\n",
      "   \\_   ..   _/\n",
      "     \\______/\n",
      "       V  V                                  ____\n",
      "       `.^^`.                               /^,--`\n",
      "         \\^^^\\                             (^^\\\n",
      "         |^^^|                  _,-._       \\^^\\\n",
      "        (^^^^\\      __      _,-'^^^^^`.    _,'^^)\n",
      "         \\^^^^`._,-'^^`-._.'^^^^__^^^^ `--'^^^_/\n",
      "          \\^^^^^ ^^^_^^^^^^^_,-'  `.^^^^^^^^_/\n",
      "           `.____,-' `-.__.'        `-.___.'\n",
      "\n"
     ]
    }
   ],
   "source": [
    "content = fobj.read()\n",
    "print(content)"
   ]
  },
  {
   "cell_type": "markdown",
   "metadata": {},
   "source": [
    "Reading again will not show any content, because the current position is at the end of the file"
   ]
  },
  {
   "cell_type": "code",
   "execution_count": 4,
   "metadata": {
    "collapsed": false
   },
   "outputs": [
    {
     "name": "stdout",
     "output_type": "stream",
     "text": [
      "\n"
     ]
    }
   ],
   "source": [
    "content = fobj.read()\n",
    "print(content)"
   ]
  },
  {
   "cell_type": "markdown",
   "metadata": {},
   "source": [
    "So we have to seek it back to the start"
   ]
  },
  {
   "cell_type": "code",
   "execution_count": 5,
   "metadata": {
    "collapsed": false
   },
   "outputs": [
    {
     "name": "stdout",
     "output_type": "stream",
     "text": [
      "      _    _\n",
      "   ,-(|)--(|)-.\n",
      "   \\_   ..   _/\n",
      "     \\______/\n",
      "       V  V                                  ____\n",
      "       `.^^`.                               /^,--`\n",
      "         \\^^^\\                             (^^\\\n",
      "         |^^^|                  _,-._       \\^^\\\n",
      "        (^^^^\\      __      _,-'^^^^^`.    _,'^^)\n",
      "         \\^^^^`._,-'^^`-._.'^^^^__^^^^ `--'^^^_/\n",
      "          \\^^^^^ ^^^_^^^^^^^_,-'  `.^^^^^^^^_/\n",
      "           `.____,-' `-.__.'        `-.___.'\n",
      "\n"
     ]
    }
   ],
   "source": [
    "fobj.seek(0)\n",
    "\n",
    "content = fobj.read()\n",
    "print(content)"
   ]
  },
  {
   "cell_type": "markdown",
   "metadata": {},
   "source": [
    "##### Close the file"
   ]
  },
  {
   "cell_type": "code",
   "execution_count": 6,
   "metadata": {
    "collapsed": true
   },
   "outputs": [],
   "source": [
    "fobj.close()"
   ]
  },
  {
   "cell_type": "markdown",
   "metadata": {},
   "source": [
    "### With statement"
   ]
  },
  {
   "cell_type": "markdown",
   "metadata": {},
   "source": [
    "Always use the with statement. Closes the file at the end and in the case of an exeption."
   ]
  },
  {
   "cell_type": "code",
   "execution_count": 7,
   "metadata": {
    "collapsed": false
   },
   "outputs": [
    {
     "name": "stdout",
     "output_type": "stream",
     "text": [
      "      _    _\n",
      "   ,-(|)--(|)-.\n",
      "   \\_   ..   _/\n",
      "     \\______/\n",
      "       V  V                                  ____\n",
      "       `.^^`.                               /^,--`\n",
      "         \\^^^\\                             (^^\\\n",
      "         |^^^|                  _,-._       \\^^\\\n",
      "        (^^^^\\      __      _,-'^^^^^`.    _,'^^)\n",
      "         \\^^^^`._,-'^^`-._.'^^^^__^^^^ `--'^^^_/\n",
      "          \\^^^^^ ^^^_^^^^^^^_,-'  `.^^^^^^^^_/\n",
      "           `.____,-' `-.__.'        `-.___.'\n",
      "\n"
     ]
    }
   ],
   "source": [
    "filename = 'data/example_read.txt'\n",
    "\n",
    "with open(filename) as fobj:\n",
    "    content = fobj.read()\n",
    "\n",
    "print(content)"
   ]
  },
  {
   "cell_type": "markdown",
   "metadata": {},
   "source": [
    "## Writing txt Files"
   ]
  },
  {
   "cell_type": "markdown",
   "metadata": {},
   "source": [
    "The default mode is read only 'r', we have to enable the writing mode 'w'."
   ]
  },
  {
   "cell_type": "code",
   "execution_count": 8,
   "metadata": {
    "collapsed": false
   },
   "outputs": [],
   "source": [
    "with open('data/example_write.txt', mode='w') as fobj:\n",
    "    fobj.write('\\t\\tPython in the Lab\\n')\n",
    "    fobj.write(content)"
   ]
  },
  {
   "cell_type": "markdown",
   "metadata": {},
   "source": [
    "Quick check"
   ]
  },
  {
   "cell_type": "code",
   "execution_count": 9,
   "metadata": {
    "collapsed": false
   },
   "outputs": [
    {
     "name": "stdout",
     "output_type": "stream",
     "text": [
      "\t\tPython in the Lab\n",
      "      _    _\n",
      "   ,-(|)--(|)-.\n",
      "   \\_   ..   _/\n",
      "     \\______/\n",
      "       V  V                                  ____\n",
      "       `.^^`.                               /^,--`\n",
      "         \\^^^\\                             (^^\\\n",
      "         |^^^|                  _,-._       \\^^\\\n",
      "        (^^^^\\      __      _,-'^^^^^`.    _,'^^)\n",
      "         \\^^^^`._,-'^^`-._.'^^^^__^^^^ `--'^^^_/\n",
      "          \\^^^^^ ^^^_^^^^^^^_,-'  `.^^^^^^^^_/\n",
      "           `.____,-' `-.__.'        `-.___.'\n",
      "\n"
     ]
    }
   ],
   "source": [
    "with open('data/example_write.txt') as fobj:\n",
    "    print(fobj.read())"
   ]
  },
  {
   "cell_type": "markdown",
   "metadata": {},
   "source": [
    "##  Reading line by line"
   ]
  },
  {
   "cell_type": "code",
   "execution_count": 10,
   "metadata": {
    "collapsed": false
   },
   "outputs": [
    {
     "name": "stdout",
     "output_type": "stream",
     "text": [
      "\t\tPython in the Lab\n",
      "      _    _\n",
      "   ,-(|)--(|)-.\n",
      "   \\_   ..   _/\n",
      "     \\______/\n",
      "       V  V                                  ____\n",
      "       `.^^`.                               /^,--`\n",
      "         \\^^^\\                             (^^\\\n",
      "         |^^^|                  _,-._       \\^^\\\n",
      "        (^^^^\\      __      _,-'^^^^^`.    _,'^^)\n",
      "         \\^^^^`._,-'^^`-._.'^^^^__^^^^ `--'^^^_/\n",
      "          \\^^^^^ ^^^_^^^^^^^_,-'  `.^^^^^^^^_/\n",
      "           `.____,-' `-.__.'        `-.___.'\n"
     ]
    }
   ],
   "source": [
    "with open('data/example_write.txt') as fobj:\n",
    "    \n",
    "    print(fobj.readline(), end='')\n",
    "    print(fobj.readline(), end='')\n",
    "    print(fobj.readline(), end='')\n",
    "    print(fobj.readline(), end='')\n",
    "    print(fobj.readline(), end='')\n",
    "    print(fobj.readline(), end='')\n",
    "    print(fobj.readline(), end='')\n",
    "    print(fobj.readline(), end='')\n",
    "    print(fobj.readline(), end='')\n",
    "    print(fobj.readline(), end='')\n",
    "    print(fobj.readline(), end='')\n",
    "    print(fobj.readline(), end='')\n",
    "    print(fobj.readline(), end='')"
   ]
  },
  {
   "cell_type": "markdown",
   "metadata": {},
   "source": [
    "##### !!! There must be a better way !!!! "
   ]
  },
  {
   "cell_type": "code",
   "execution_count": 11,
   "metadata": {
    "collapsed": false
   },
   "outputs": [
    {
     "name": "stdout",
     "output_type": "stream",
     "text": [
      "\t\tPython in the Lab\n",
      "      _    _\n",
      "   ,-(|)--(|)-.\n",
      "   \\_   ..   _/\n",
      "     \\______/\n",
      "       V  V                                  ____\n",
      "       `.^^`.                               /^,--`\n",
      "         \\^^^\\                             (^^\\\n",
      "         |^^^|                  _,-._       \\^^\\\n",
      "        (^^^^\\      __      _,-'^^^^^`.    _,'^^)\n",
      "         \\^^^^`._,-'^^`-._.'^^^^__^^^^ `--'^^^_/\n",
      "          \\^^^^^ ^^^_^^^^^^^_,-'  `.^^^^^^^^_/\n",
      "           `.____,-' `-.__.'        `-.___.'\n"
     ]
    }
   ],
   "source": [
    "with open('data/example_write.txt') as fobj:\n",
    "    for line in fobj:\n",
    "        print(line, end='')"
   ]
  },
  {
   "cell_type": "markdown",
   "metadata": {},
   "source": [
    "Or read all lines into a python list first"
   ]
  },
  {
   "cell_type": "code",
   "execution_count": 12,
   "metadata": {
    "collapsed": false
   },
   "outputs": [
    {
     "name": "stdout",
     "output_type": "stream",
     "text": [
      "           `.____,-' `-.__.'        `-.___.'\n",
      "          \\^^^^^ ^^^_^^^^^^^_,-'  `.^^^^^^^^_/\n",
      "         \\^^^^`._,-'^^`-._.'^^^^__^^^^ `--'^^^_/\n",
      "        (^^^^\\      __      _,-'^^^^^`.    _,'^^)\n",
      "         |^^^|                  _,-._       \\^^\\\n",
      "         \\^^^\\                             (^^\\\n",
      "       `.^^`.                               /^,--`\n",
      "       V  V                                  ____\n",
      "     \\______/\n",
      "   \\_   ..   _/\n",
      "   ,-(|)--(|)-.\n",
      "      _    _\n",
      "\t\tPython in the Lab\n"
     ]
    }
   ],
   "source": [
    "with open('data/example_write.txt') as fobj:\n",
    "    lines = fobj.readlines()\n",
    "    \n",
    "for line in reversed(lines):\n",
    "    print(line, end='')"
   ]
  },
  {
   "cell_type": "markdown",
   "metadata": {},
   "source": [
    "This for example would  allow is to slice it later"
   ]
  },
  {
   "cell_type": "code",
   "execution_count": 13,
   "metadata": {
    "collapsed": false
   },
   "outputs": [
    {
     "name": "stdout",
     "output_type": "stream",
     "text": [
      "   ,-(|)--(|)-.\n",
      "   \\_   ..   _/\n",
      "     \\______/\n",
      "       V  V                                  ____\n"
     ]
    }
   ],
   "source": [
    "for line in lines[2:6]:\n",
    "    print(line, end='')"
   ]
  },
  {
   "cell_type": "markdown",
   "metadata": {},
   "source": [
    "### Writing data to file"
   ]
  },
  {
   "cell_type": "markdown",
   "metadata": {},
   "source": [
    "For practice we will only use modules of the Python standart libary in this example. Later we make everything easier with numpy."
   ]
  },
  {
   "cell_type": "code",
   "execution_count": 14,
   "metadata": {
    "collapsed": true
   },
   "outputs": [],
   "source": [
    "import math    # Python math module\n",
    "import random  # Python random module"
   ]
  },
  {
   "cell_type": "markdown",
   "metadata": {},
   "source": [
    "Define noisy sin und cos function"
   ]
  },
  {
   "cell_type": "code",
   "execution_count": 15,
   "metadata": {
    "collapsed": true
   },
   "outputs": [],
   "source": [
    "def noisy_sin(phi, amp=1, noise_amp=0.25):\n",
    "    return amp * math.sin(phi) + noise_amp * random.random()\n",
    "\n",
    "def noisy_cos(phi, amp=1, noise_amp=0.25):\n",
    "    return amp * math.cos(phi) + noise_amp * random.random()"
   ]
  },
  {
   "cell_type": "markdown",
   "metadata": {},
   "source": [
    "Use list comprehension to create data lists"
   ]
  },
  {
   "cell_type": "code",
   "execution_count": 16,
   "metadata": {
    "collapsed": false
   },
   "outputs": [],
   "source": [
    "phi_data = [4 * math.pi  *(x / 500) for x in range(0, 250)]\n",
    "\n",
    "sin_data = [noisy_sin(phi, noise_amp=0.4) for phi in phi_data]\n",
    "cos_data = [noisy_cos(phi, amp=1.5, noise_amp=0.2) for phi in phi_data]"
   ]
  },
  {
   "cell_type": "markdown",
   "metadata": {},
   "source": [
    "Plot everything"
   ]
  },
  {
   "cell_type": "code",
   "execution_count": 17,
   "metadata": {
    "collapsed": true
   },
   "outputs": [],
   "source": [
    "import matplotlib.pyplot as plt\n",
    "\n",
    "%matplotlib inline"
   ]
  },
  {
   "cell_type": "code",
   "execution_count": 18,
   "metadata": {
    "collapsed": false
   },
   "outputs": [
    {
     "data": {
      "text/plain": [
       "[<matplotlib.lines.Line2D at 0x7f39ca885080>]"
      ]
     },
     "execution_count": 18,
     "metadata": {},
     "output_type": "execute_result"
    },
    {
     "data": {
      "image/png": "[encoded data removed]",
      "text/plain": [
       "<matplotlib.figure.Figure at 0x7f39cc8f7710>"
      ]
     },
     "metadata": {},
     "output_type": "display_data"
    }
   ],
   "source": [
    "plt.figure(figsize=(12, 4))\n",
    "plt.plot(phi_data, sin_data, color='red', marker='x')\n",
    "plt.plot(phi_data, cos_data, 'g.')"
   ]
  },
  {
   "cell_type": "markdown",
   "metadata": {},
   "source": [
    "Let's write some data to file"
   ]
  },
  {
   "cell_type": "code",
   "execution_count": 19,
   "metadata": {
    "collapsed": false
   },
   "outputs": [],
   "source": [
    "with open('data/data_write.txt', 'w') as fobj:\n",
    "    \n",
    "    for datapoint in sin_data:\n",
    "        fobj.write('{:.3f}\\n'.format(datapoint))"
   ]
  },
  {
   "cell_type": "markdown",
   "metadata": {},
   "source": [
    "How do we write all three data next to each other?"
   ]
  },
  {
   "cell_type": "code",
   "execution_count": 20,
   "metadata": {
    "collapsed": false
   },
   "outputs": [],
   "source": [
    "with open('data/data_write.txt', 'w') as fobj:\n",
    "    \n",
    "    for i in range(len(phi_data)):\n",
    "        fstr = '{:.3f}; {:.3f}; {:.3f} \\n'\n",
    "        fobj.write(fstr.format(phi_data[i], sin_data[i], cos_data[i]))        "
   ]
  },
  {
   "cell_type": "markdown",
   "metadata": {},
   "source": [
    "When ever you use indices in Python you are doing something WRONG or you EXACTLY know why."
   ]
  },
  {
   "cell_type": "markdown",
   "metadata": {},
   "source": [
    "#### !!! There must be a better way !!!! "
   ]
  },
  {
   "cell_type": "markdown",
   "metadata": {},
   "source": [
    "Just zip it"
   ]
  },
  {
   "cell_type": "code",
   "execution_count": 21,
   "metadata": {
    "collapsed": false
   },
   "outputs": [],
   "source": [
    "with open('data/data_write.txt', 'w') as fobj:\n",
    "    \n",
    "    for phi, sin, cos in zip(phi_data, sin_data, cos_data):\n",
    "        fstr = '{:.3f}; {:.3f}; {:.3f} \\n'\n",
    "        fobj.write(fstr.format(phi, sin, cos)) "
   ]
  },
  {
   "cell_type": "markdown",
   "metadata": {},
   "source": [
    "A few word on zip"
   ]
  },
  {
   "cell_type": "code",
   "execution_count": 22,
   "metadata": {
    "collapsed": true
   },
   "outputs": [],
   "source": [
    "l0 = [1, 2, 3]\n",
    "l1 = ['a', 'b', 'c']\n",
    "l2 = ['#', '*', '%']"
   ]
  },
  {
   "cell_type": "code",
   "execution_count": 23,
   "metadata": {
    "collapsed": false
   },
   "outputs": [
    {
     "name": "stdout",
     "output_type": "stream",
     "text": [
      "(1, 'a', '#')\n",
      "(2, 'b', '*')\n",
      "(3, 'c', '%')\n"
     ]
    }
   ],
   "source": [
    "for item in zip(l0, l1 ,l2):\n",
    "    print(item)"
   ]
  },
  {
   "cell_type": "markdown",
   "metadata": {},
   "source": [
    "There are more little helper products product(), chain(), cycle(), repeat(), ......  in [iterttools](https://docs.python.org/3.5/library/itertools.html)"
   ]
  },
  {
   "cell_type": "markdown",
   "metadata": {},
   "source": [
    "Now let us add some head data"
   ]
  },
  {
   "cell_type": "code",
   "execution_count": 24,
   "metadata": {
    "collapsed": true
   },
   "outputs": [],
   "source": [
    "import datetime"
   ]
  },
  {
   "cell_type": "code",
   "execution_count": 25,
   "metadata": {
    "collapsed": false
   },
   "outputs": [],
   "source": [
    "with open('data/data_write.txt', 'w') as fobj:\n",
    "    \n",
    "    # Write header\n",
    "    fobj.write('#Python in the Lab\\n')\n",
    "    fobj.write('#\\n')\n",
    "    fobj.write('#{} \\n'.format(datetime.datetime.now()))\n",
    "    fobj.write('#\\n')\n",
    "    fobj.write('#Writing some noisy sin and cos data to a file.\\n')\n",
    "    fobj.write('\\n')\n",
    "    \n",
    "    fobj.write('\\n')\n",
    "    fobj.write('phi (2pi); sin (a.u.); cos (a.u.)\\n')\n",
    "    \n",
    "    # Write data\n",
    "    for phi, sin, cos in zip(phi_data, sin_data, cos_data):\n",
    "        fstr = '{:.3f}; {:.3f}; {:.3f} \\n'\n",
    "        fobj.write(fstr.format(phi, sin, cos)) "
   ]
  },
  {
   "cell_type": "markdown",
   "metadata": {},
   "source": [
    "Some words on datetime objects"
   ]
  },
  {
   "cell_type": "code",
   "execution_count": 26,
   "metadata": {
    "collapsed": false
   },
   "outputs": [
    {
     "data": {
      "text/plain": [
       "datetime.datetime(2015, 11, 30, 15, 25, 53, 75029)"
      ]
     },
     "execution_count": 26,
     "metadata": {},
     "output_type": "execute_result"
    }
   ],
   "source": [
    "now = datetime.datetime.now()\n",
    "now"
   ]
  },
  {
   "cell_type": "code",
   "execution_count": 27,
   "metadata": {
    "collapsed": false
   },
   "outputs": [
    {
     "name": "stdout",
     "output_type": "stream",
     "text": [
      "2015-11-30 15:25:53.075029\n"
     ]
    }
   ],
   "source": [
    "print(now)"
   ]
  },
  {
   "cell_type": "code",
   "execution_count": 28,
   "metadata": {
    "collapsed": false
   },
   "outputs": [
    {
     "name": "stdout",
     "output_type": "stream",
     "text": [
      "Year: 2015\n",
      "Month: 11\n",
      "Day: 30\n",
      "Hour: 15\n",
      "Minute: 25\n",
      "Second: 53\n",
      "Microsecond:  308962\n"
     ]
    }
   ],
   "source": [
    "print('Year:', datetime.datetime.now().year)\n",
    "print('Month:', datetime.datetime.now().month)\n",
    "print('Day:', datetime.datetime.now().day)\n",
    "print('Hour:', datetime.datetime.now().hour)\n",
    "print('Minute:', datetime.datetime.now().minute)\n",
    "print('Second:', datetime.datetime.now().second)\n",
    "print('Microsecond: ',datetime.datetime.now().microsecond)"
   ]
  },
  {
   "cell_type": "markdown",
   "metadata": {},
   "source": [
    "Feel free to format the date as you like. For a complete list of formatting directives, see [strftime() and strptime()](https://docs.python.org/3.5/library/datetime.html#strftime-strptime-behavior) Behavior."
   ]
  },
  {
   "cell_type": "code",
   "execution_count": 29,
   "metadata": {
    "collapsed": false,
    "scrolled": true
   },
   "outputs": [
    {
     "name": "stdout",
     "output_type": "stream",
     "text": [
      "Mon 15:25 30.11.2015\n",
      "Monday 15:25 30 November 2015 \n",
      "Monday 03 pm:25 30.Nov.15\n",
      "The day is 30, the month is November.\n"
     ]
    }
   ],
   "source": [
    "print('{:%a %H:%M %d.%m.%Y}'.format(now))\n",
    "print('{:%A %H:%M %d %B %Y %z}'.format(now))\n",
    "print('{:%A %I %P:%M %d.%b.%y}'.format(now))\n",
    "print('The day is {0:%d}, the month is {0:%B}.'.format(now))"
   ]
  },
  {
   "cell_type": "markdown",
   "metadata": {},
   "source": [
    "###  Reading data from file"
   ]
  },
  {
   "cell_type": "code",
   "execution_count": 30,
   "metadata": {
    "collapsed": false
   },
   "outputs": [],
   "source": [
    "# Read data in lines from file\n",
    "with open('data/data_write.txt') as fobj:\n",
    "    lines = fobj.readlines()    \n",
    "    \n",
    "# Organize everythin nicly in a dict\n",
    "data = {}\n",
    "data['title'] = lines[0].strip('#').strip().rstrip()\n",
    "data['time'] = lines[2].strip('#').strip().rstrip()\n",
    "data['comment'] = lines[4].strip('#').strip().rstrip()\n",
    "data['phi'] = []\n",
    "data['sin'] = []\n",
    "data['cos'] = []\n",
    "\n",
    "for dataline in lines[8:]:\n",
    "    \n",
    "    # Remove linebreaks '\\n' and split the line\n",
    "    phi, sin, cos = dataline.strip().split(';')\n",
    "    \n",
    "    data['phi'].append(float(phi))\n",
    "    data['sin'].append(float(sin))\n",
    "    data['cos'].append(float(cos))"
   ]
  },
  {
   "cell_type": "code",
   "execution_count": 31,
   "metadata": {
    "collapsed": false
   },
   "outputs": [
    {
     "data": {
      "image/png": "[encoded data removed]",
      "text/plain": [
       "<matplotlib.figure.Figure at 0x7f39ca6d8c88>"
      ]
     },
     "metadata": {},
     "output_type": "display_data"
    }
   ],
   "source": [
    "fig, axs = plt.subplots(2, 1, figsize=(12, 6))\n",
    "axs[0].plot(data['phi'], data['sin'], color='red', marker='x')\n",
    "axs[1].plot(data['phi'], data['cos'], 'g.')\n",
    "\n",
    "for ax in axs:\n",
    "    ax.set_xlim(0, 2 * math.pi)\n",
    "    ax.set_ylim(-1.8, 1.8)"
   ]
  },
  {
   "cell_type": "markdown",
   "metadata": {},
   "source": [
    "###  How NumPy script kiddies would do it"
   ]
  },
  {
   "cell_type": "code",
   "execution_count": 32,
   "metadata": {
    "collapsed": true
   },
   "outputs": [],
   "source": [
    "import numpy as np"
   ]
  },
  {
   "cell_type": "code",
   "execution_count": 33,
   "metadata": {
    "collapsed": false
   },
   "outputs": [],
   "source": [
    "data = {}\n",
    "data['phi'], data['sin'], data['cos'] = np.genfromtxt('data/data_write.txt', skip_header=8, delimiter=';').T"
   ]
  },
  {
   "cell_type": "code",
   "execution_count": 34,
   "metadata": {
    "collapsed": false
   },
   "outputs": [
    {
     "data": {
      "text/plain": [
       "[<matplotlib.lines.Line2D at 0x7f39ca705b70>]"
      ]
     },
     "execution_count": 34,
     "metadata": {},
     "output_type": "execute_result"
    },
    {
     "data": {
      "image/png": "[encoded data removed]",
      "text/plain": [
       "<matplotlib.figure.Figure at 0x7f39ca769b70>"
      ]
     },
     "metadata": {},
     "output_type": "display_data"
    }
   ],
   "source": [
    "plt.figure(figsize=(12, 4))\n",
    "plt.plot(data['phi'], data['sin'], color='red', marker='x')\n",
    "plt.plot(data['phi'], data['cos'], 'g.')"
   ]
  },
  {
   "cell_type": "markdown",
   "metadata": {},
   "source": [
    "Or more advanced use a custom  dtype"
   ]
  },
  {
   "cell_type": "code",
   "execution_count": 35,
   "metadata": {
    "collapsed": false
   },
   "outputs": [],
   "source": [
    "dt = np.dtype([('phi', 'f8'), ('sin', 'f8'), ('cos', 'f8')])\n",
    "data = np.genfromtxt('data/data_write.txt', dtype=dt, skip_header=8, delimiter=';').T"
   ]
  },
  {
   "cell_type": "code",
   "execution_count": 36,
   "metadata": {
    "collapsed": false
   },
   "outputs": [
    {
     "data": {
      "text/plain": [
       "[<matplotlib.lines.Line2D at 0x7f39ca6436a0>]"
      ]
     },
     "execution_count": 36,
     "metadata": {},
     "output_type": "execute_result"
    },
    {
     "data": {
      "image/png": "[encoded data removed]",
      "text/plain": [
       "<matplotlib.figure.Figure at 0x7f39ca5368d0>"
      ]
     },
     "metadata": {},
     "output_type": "display_data"
    }
   ],
   "source": [
    "fig, axs = plt.subplots(1, 2, figsize=(12, 3))\n",
    "axs[0].plot(data['phi'], data['sin'], color='red', marker='x')\n",
    "axs[1].plot(data['phi'], data['cos'], 'g.')"
   ]
  }
 ],
 "metadata": {
  "kernelspec": {
   "display_name": "Python 3",
   "language": "python",
   "name": "python3"
  },
  "language_info": {
   "codemirror_mode": {
    "name": "ipython",
    "version": 3
   },
   "file_extension": ".py",
   "mimetype": "text/x-python",
   "name": "python",
   "nbconvert_exporter": "python",
   "pygments_lexer": "ipython3",
   "version": "3.5.0"
  }
 },
 "nbformat": 4,
 "nbformat_minor": 0
}
