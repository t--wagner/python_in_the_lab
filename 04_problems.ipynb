{
 "cells": [
  {
   "cell_type": "code",
   "execution_count": 37,
   "metadata": {
    "collapsed": false
   },
   "outputs": [],
   "source": [
    "import matplotlib.pyplot as plt\n",
    "%matplotlib inline\n",
    "\n",
    "%config IPCompleter.greedy = True"
   ]
  },
  {
   "cell_type": "markdown",
   "metadata": {},
   "source": [
    "# 1. Combine the two lists"
   ]
  },
  {
   "cell_type": "code",
   "execution_count": 2,
   "metadata": {
    "collapsed": true
   },
   "outputs": [],
   "source": [
    "l0 = [0, 1, 2, 3, 4, 5]\n",
    "l1 = ['a', 'b', 'c', 'd', 'e', 'f']"
   ]
  },
  {
   "cell_type": "markdown",
   "metadata": {},
   "source": [
    "Solution:"
   ]
  },
  {
   "cell_type": "code",
   "execution_count": 3,
   "metadata": {
    "collapsed": false
   },
   "outputs": [
    {
     "data": {
      "text/plain": [
       "[(0, 'a'), (1, 'b'), (2, 'c'), (3, 'd'), (4, 'e'), (5, 'f')]"
      ]
     },
     "execution_count": 3,
     "metadata": {},
     "output_type": "execute_result"
    }
   ],
   "source": [
    "list(zip(l0, l1))"
   ]
  },
  {
   "cell_type": "markdown",
   "metadata": {},
   "source": [
    "# 2. Create all products of the two lists"
   ]
  },
  {
   "cell_type": "code",
   "execution_count": 1,
   "metadata": {
    "collapsed": true
   },
   "outputs": [],
   "source": [
    "l0 = [0, 1, 2]\n",
    "l1 = ['a', 'b', 'c']"
   ]
  },
  {
   "cell_type": "markdown",
   "metadata": {},
   "source": [
    "##### Solution:"
   ]
  },
  {
   "cell_type": "code",
   "execution_count": 2,
   "metadata": {
    "collapsed": false
   },
   "outputs": [
    {
     "data": {
      "text/plain": [
       "[(0, 'a'),\n",
       " (0, 'b'),\n",
       " (0, 'c'),\n",
       " (1, 'a'),\n",
       " (1, 'b'),\n",
       " (1, 'c'),\n",
       " (2, 'a'),\n",
       " (2, 'b'),\n",
       " (2, 'c')]"
      ]
     },
     "execution_count": 2,
     "metadata": {},
     "output_type": "execute_result"
    }
   ],
   "source": [
    "[(i0, i1) for i0 in l0 for i1 in l1]"
   ]
  },
  {
   "cell_type": "markdown",
   "metadata": {},
   "source": [
    "#  3. Sort the list"
   ]
  },
  {
   "cell_type": "markdown",
   "metadata": {},
   "source": [
    "Do not do it manually ;)"
   ]
  },
  {
   "cell_type": "code",
   "execution_count": 61,
   "metadata": {
    "collapsed": true
   },
   "outputs": [],
   "source": [
    "l = [12.34, 'z', 3, 'a', 8, 'd', 16.6]"
   ]
  },
  {
   "cell_type": "markdown",
   "metadata": {},
   "source": [
    "#####  Solution:"
   ]
  },
  {
   "cell_type": "code",
   "execution_count": 62,
   "metadata": {
    "collapsed": false
   },
   "outputs": [
    {
     "data": {
      "text/plain": [
       "[3, 8, 12.34, 16.6, 'a', 'd', 'z']"
      ]
     },
     "execution_count": 62,
     "metadata": {},
     "output_type": "execute_result"
    }
   ],
   "source": [
    "[3, 8, 12.34, 16.6, 'a', 'd', 'z']"
   ]
  },
  {
   "cell_type": "markdown",
   "metadata": {},
   "source": [
    "# 4. Filter the list "
   ]
  },
  {
   "cell_type": "markdown",
   "metadata": {},
   "source": [
    "Filter out all the negativ numbers."
   ]
  },
  {
   "cell_type": "code",
   "execution_count": 105,
   "metadata": {
    "collapsed": false
   },
   "outputs": [],
   "source": [
    "import random\n",
    "\n",
    "random_data = [random.random() - 0.5 for _ in range(10000)]"
   ]
  },
  {
   "cell_type": "markdown",
   "metadata": {},
   "source": [
    "#####  Solution:"
   ]
  },
  {
   "cell_type": "code",
   "execution_count": 116,
   "metadata": {
    "collapsed": false
   },
   "outputs": [
    {
     "name": "stdout",
     "output_type": "stream",
     "text": [
      "-0.003575292272032571, -0.08958076901750334, -0.45254059523727985, -0.27409293623332487, -0.06293655779137586 ,..., -0.003575292272032571, -0.08958076901750334, -0.45254059523727985, -0.27409293623332487, -0.06293655779137586\n"
     ]
    }
   ],
   "source": [
    "neg = [nr for nr in random_data if nr <= 0]\n",
    "print(str(neg[:5])[1:-1], end=' ,..., ') \n",
    "print(str(neg[:5])[1:-1])"
   ]
  },
  {
   "cell_type": "markdown",
   "metadata": {},
   "source": [
    "# 5. Create a parabola function"
   ]
  },
  {
   "cell_type": "markdown",
   "metadata": {},
   "source": [
    "Define your own parabola function $f(x) = a (x - b)^2 - c$."
   ]
  },
  {
   "cell_type": "markdown",
   "metadata": {},
   "source": [
    "##### Solution:"
   ]
  },
  {
   "cell_type": "code",
   "execution_count": 18,
   "metadata": {
    "collapsed": false
   },
   "outputs": [],
   "source": [
    "def parabola(x, a=1, b=0, c=0):\n",
    "\n",
    "    return a * (x - b) **2 - c"
   ]
  },
  {
   "cell_type": "code",
   "execution_count": 19,
   "metadata": {
    "collapsed": false
   },
   "outputs": [
    {
     "data": {
      "text/plain": [
       "-1.0"
      ]
     },
     "execution_count": 19,
     "metadata": {},
     "output_type": "execute_result"
    }
   ],
   "source": [
    "parabola(0, a = 0.5, b=-2, c=3)"
   ]
  },
  {
   "cell_type": "markdown",
   "metadata": {},
   "source": [
    "# 6. Plot two parabola in subplots"
   ]
  },
  {
   "cell_type": "markdown",
   "metadata": {},
   "source": [
    "Feel free to make it look nice."
   ]
  },
  {
   "cell_type": "markdown",
   "metadata": {},
   "source": [
    "##### Solution:"
   ]
  },
  {
   "cell_type": "code",
   "execution_count": 12,
   "metadata": {
    "collapsed": false
   },
   "outputs": [],
   "source": [
    "import  numpy as np"
   ]
  },
  {
   "cell_type": "code",
   "execution_count": 71,
   "metadata": {
    "collapsed": false
   },
   "outputs": [
    {
     "data": {
      "image/png": "[encoded data removed]",
      "text/plain": [
       "<matplotlib.figure.Figure at 0x7f3ada88aba8>"
      ]
     },
     "metadata": {},
     "output_type": "display_data"
    }
   ],
   "source": [
    "fig, axs = plt.subplots(1, 2, figsize=(12,5))\n",
    "\n",
    "x = np.linspace(-3, 7 , 601)\n",
    "axs[0].plot(x, parabola(x, a = 0.5, b=2, c=3), 'ro--', markevery=20, lw=3)\n",
    "\n",
    "\n",
    "x = np.linspace(-7, 3 , 601)\n",
    "axs[1].plot(x, parabola(x, a = 0.5, b=-2, c=3), 'gD:', markevery=20, lw=3)\n",
    "\n",
    "axs[1].set_yticks([])\n",
    " \n",
    "plt.tight_layout(w_pad=0);"
   ]
  },
  {
   "cell_type": "markdown",
   "metadata": {},
   "source": [
    "# 7. Differntiate a sin function numerical"
   ]
  },
  {
   "cell_type": "markdown",
   "metadata": {},
   "source": [
    "Use the given dataset"
   ]
  },
  {
   "cell_type": "code",
   "execution_count": 63,
   "metadata": {
    "collapsed": true
   },
   "outputs": [],
   "source": [
    "import math\n",
    "\n",
    "xdata = [2 *  math.pi  * x / 1000 for x in range(1000)]\n",
    "ydata = [math.sin(x) for x in xdata]"
   ]
  },
  {
   "cell_type": "markdown",
   "metadata": {},
   "source": [
    "##### Solution:"
   ]
  },
  {
   "cell_type": "code",
   "execution_count": 64,
   "metadata": {
    "collapsed": false
   },
   "outputs": [],
   "source": [
    "dy = [(y1 - y0) / (x1 - x0) for y1, y0, x1, x0 in zip(ydata[1:], ydata[:-1], xdata[1:], xdata[:-1])]"
   ]
  },
  {
   "cell_type": "code",
   "execution_count": 70,
   "metadata": {
    "collapsed": false
   },
   "outputs": [
    {
     "data": {
      "image/png": "[encoded data removed]",
      "text/plain": [
       "<matplotlib.figure.Figure at 0x7f3ada888cf8>"
      ]
     },
     "metadata": {},
     "output_type": "display_data"
    }
   ],
   "source": [
    "plt.figure(figsize=(12, 4))\n",
    "plt.plot(xdata, ydata, label=r'$sin(x)$')\n",
    "plt.plot(xdata[1:], dy, label=r'$\\frac{\\Delta sin(x)}{\\Delta t}$')\n",
    "\n",
    "plt.xlim(0, 2 * math.pi)\n",
    "plt.ylim(-1.1, 1.1)\n",
    "\n",
    "plt.legend(loc=3);"
   ]
  },
  {
   "cell_type": "markdown",
   "metadata": {},
   "source": [
    "# 8. Smooth some noisy data"
   ]
  },
  {
   "cell_type": "markdown",
   "metadata": {},
   "source": [
    "Use the given dataset"
   ]
  },
  {
   "cell_type": "code",
   "execution_count": 73,
   "metadata": {
    "collapsed": false
   },
   "outputs": [],
   "source": [
    "import math\n",
    "import random\n",
    "\n",
    "xdata = [4 *  math.pi  * x / 1000 for x in range(1000)]\n",
    "noisy_data = [math.sin(x) + 0.25 * random.random() for x in xdata]"
   ]
  },
  {
   "cell_type": "markdown",
   "metadata": {},
   "source": [
    "##### Solution:"
   ]
  },
  {
   "cell_type": "code",
   "execution_count": 74,
   "metadata": {
    "collapsed": false
   },
   "outputs": [],
   "source": [
    "s = 40\n",
    "smooth_data = [sum(noisy_data[i:i+s])/s for i in range(len(xdata) - s)]"
   ]
  },
  {
   "cell_type": "code",
   "execution_count": 75,
   "metadata": {
    "collapsed": false
   },
   "outputs": [
    {
     "data": {
      "image/png": "[encoded data removed]",
      "text/plain": [
       "<matplotlib.figure.Figure at 0x7f3ada57a710>"
      ]
     },
     "metadata": {},
     "output_type": "display_data"
    }
   ],
   "source": [
    "plt.figure(figsize=(12, 4))\n",
    "\n",
    "plt.plot(xdata, noisy_data, label='noisy')\n",
    "plt.plot(xdata[int(s/2):-int(s/2)], smooth_data, color='red', lw=2, label='smoothed')\n",
    "plt.legend()\n",
    "\n",
    "plt.xlim(0, 4 * math.pi)\n",
    "plt.ylim(-1.1, 1.3);"
   ]
  },
  {
   "cell_type": "markdown",
   "metadata": {},
   "source": [
    "# 9. Create a Histogram"
   ]
  },
  {
   "cell_type": "markdown",
   "metadata": {},
   "source": [
    "Create a histogram from the poisson data array. Do not use any build in numpy or histogram plot function."
   ]
  },
  {
   "cell_type": "code",
   "execution_count": 6,
   "metadata": {
    "collapsed": false
   },
   "outputs": [
    {
     "name": "stdout",
     "output_type": "stream",
     "text": [
      "39 50 45 52 38 ... 43 53 54 35 48\n"
     ]
    }
   ],
   "source": [
    "from numpy.random import poisson\n",
    "\n",
    "data = poisson(lam = 50, size=int(10e6))\n",
    "\n",
    "# Don worry too much about the next line it just prints nicely\n",
    "print(str(data[:5])[1:-1], '...', str(data[-5:])[1:-1])"
   ]
  },
  {
   "cell_type": "markdown",
   "metadata": {},
   "source": [
    "##### Solution:"
   ]
  },
  {
   "cell_type": "code",
   "execution_count": 9,
   "metadata": {
    "collapsed": false
   },
   "outputs": [
    {
     "data": {
      "text/plain": [
       "[(16, 1),\n",
       " (18, 1),\n",
       " (19, 2),\n",
       " (20, 6),\n",
       " (21, 17),\n",
       " (22, 39),\n",
       " (23, 91),\n",
       " (24, 166),\n",
       " (25, 378),\n",
       " (26, 736),\n",
       " (27, 1306),\n",
       " (28, 2398),\n",
       " (29, 4025),\n",
       " (30, 6732),\n",
       " (31, 11113),\n",
       " (32, 16997),\n",
       " (33, 25819),\n",
       " (34, 38140),\n",
       " (35, 54833),\n",
       " (36, 75406),\n",
       " (37, 102062),\n",
       " (38, 133860),\n",
       " (39, 172469),\n",
       " (40, 215827),\n",
       " (41, 262237),\n",
       " (42, 311975),\n",
       " (43, 364097),\n",
       " (44, 411993),\n",
       " (45, 457760),\n",
       " (46, 497327),\n",
       " (47, 530329),\n",
       " (48, 551009),\n",
       " (49, 562819),\n",
       " (50, 563447),\n",
       " (51, 551930),\n",
       " (52, 530893),\n",
       " (53, 501107),\n",
       " (54, 463201),\n",
       " (55, 421386),\n",
       " (56, 376943),\n",
       " (57, 330334),\n",
       " (58, 284406),\n",
       " (59, 240968),\n",
       " (60, 201427),\n",
       " (61, 164947),\n",
       " (62, 132790),\n",
       " (63, 105314),\n",
       " (64, 82195),\n",
       " (65, 64132),\n",
       " (66, 48143),\n",
       " (67, 35323),\n",
       " (68, 26357),\n",
       " (69, 19037),\n",
       " (70, 13638),\n",
       " (71, 9688),\n",
       " (72, 6846),\n",
       " (73, 4562),\n",
       " (74, 3111),\n",
       " (75, 2140),\n",
       " (76, 1354),\n",
       " (77, 930),\n",
       " (78, 542),\n",
       " (79, 353),\n",
       " (80, 223),\n",
       " (81, 152),\n",
       " (82, 74),\n",
       " (83, 62),\n",
       " (84, 24),\n",
       " (85, 26),\n",
       " (86, 10),\n",
       " (87, 9),\n",
       " (88, 2),\n",
       " (89, 3),\n",
       " (90, 1)]"
      ]
     },
     "execution_count": 9,
     "metadata": {},
     "output_type": "execute_result"
    }
   ],
   "source": [
    "histo = Counter(data)\n",
    "list(histo.items())"
   ]
  },
  {
   "cell_type": "markdown",
   "metadata": {},
   "source": [
    "# 10. Write your own histogram plotting function"
   ]
  },
  {
   "cell_type": "markdown",
   "metadata": {},
   "source": [
    "Wrap it around the plt.plot function so you can use all of its arguments"
   ]
  },
  {
   "cell_type": "code",
   "execution_count": 10,
   "metadata": {
    "collapsed": true
   },
   "outputs": [],
   "source": [
    "import matplotlib.pyplot as plt\n",
    "import numpy as np"
   ]
  },
  {
   "cell_type": "markdown",
   "metadata": {},
   "source": [
    "##### Solution:"
   ]
  },
  {
   "cell_type": "code",
   "execution_count": null,
   "metadata": {
    "collapsed": false
   },
   "outputs": [],
   "source": [
    "plot_histogram(data, ls='', marker='o', ms=5, color='red')"
   ]
  },
  {
   "cell_type": "code",
   "execution_count": 31,
   "metadata": {
    "collapsed": false
   },
   "outputs": [
    {
     "data": {
      "image/png": "[encoded data removed]",
      "text/plain": [
       "<matplotlib.figure.Figure at 0x7f867f7d83c8>"
      ]
     },
     "metadata": {},
     "output_type": "display_data"
    }
   ],
   "source": [
    "freqs, bins = np.histogram(data, bins=500)\n",
    "mask = freqs > 0\n",
    "\n",
    "plt.plot(bins[1:][mask], freqs[mask], color='red', ls='', marker='o', ms=5);\n",
    "plt.plot(bins[1:][mask], freqs[mask], color='black', ls='--');"
   ]
  },
  {
   "cell_type": "markdown",
   "metadata": {
    "collapsed": true
   },
   "source": [
    "# 11. Draw a ASCII chrismas tree and write it to a file"
   ]
  },
  {
   "cell_type": "markdown",
   "metadata": {},
   "source": [
    "Merry christmas."
   ]
  },
  {
   "cell_type": "markdown",
   "metadata": {},
   "source": [
    "##### Solution: "
   ]
  },
  {
   "cell_type": "code",
   "execution_count": 57,
   "metadata": {
    "collapsed": false
   },
   "outputs": [
    {
     "name": "stdout",
     "output_type": "stream",
     "text": [
      "           ★\n",
      "          ★★★\n",
      "           ★\n",
      "           #\n",
      "          ###\n",
      "         #####\n",
      "        #######\n",
      "       #########\n",
      "      ###########\n",
      "     #############\n",
      "    ###############\n",
      "   #################\n",
      "  ###################\n",
      " #####################\n",
      "#######################\n",
      "           H\n",
      "           H\n",
      "           H\n"
     ]
    }
   ],
   "source": [
    "def holidaybush(n):\n",
    "    tree = ''\n",
    "    # Write the star\n",
    "    tree += ' ' * (n - (0 + 1)) + '★' * (2*0+1) + '\\n'\n",
    "    tree += ' ' * (n - (1 + 1)) + '★' * (2*1+1) + '\\n'\n",
    "    tree += ' ' * (n - (0 + 1)) + '★' * (2*0+1) + '\\n'\n",
    "    \n",
    "    # Write the tree\n",
    "    for i in range(n):\n",
    "        tree += ' ' * (n - (i + 1)) + '#' * (2*i+1) + '\\n'\n",
    "    \n",
    "    \n",
    "    # Write the root\n",
    "    tree += ' ' * (n - (0 + 1)) + 'H' * (2*0+1) + '\\n'\n",
    "    tree += ' ' * (n - (0 + 1)) + 'H' * (2*0+1) + '\\n'\n",
    "    tree += ' ' * (n - (0 + 1)) + 'H' * (2*0+1)\n",
    "    \n",
    "    return tree\n",
    "    \n",
    "\n",
    "print(holidaybush(12))"
   ]
  },
  {
   "cell_type": "code",
   "execution_count": null,
   "metadata": {
    "collapsed": true
   },
   "outputs": [],
   "source": []
  }
 ],
 "metadata": {
  "kernelspec": {
   "display_name": "Python 3",
   "language": "python",
   "name": "python3"
  },
  "language_info": {
   "codemirror_mode": {
    "name": "ipython",
    "version": 3
   },
   "file_extension": ".py",
   "mimetype": "text/x-python",
   "name": "python",
   "nbconvert_exporter": "python",
   "pygments_lexer": "ipython3",
   "version": "3.5.0"
  }
 },
 "nbformat": 4,
 "nbformat_minor": 0
}
