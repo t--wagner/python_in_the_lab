{
 "cells": [
  {
   "cell_type": "markdown",
   "metadata": {},
   "source": [
    "# 1. Combine the two lists"
   ]
  },
  {
   "cell_type": "code",
   "execution_count": 170,
   "metadata": {
    "collapsed": true
   },
   "outputs": [],
   "source": [
    "l0 = [0, 1, 2, 3, 4, 5]\n",
    "l1 = ['a', 'b', 'c', 'd', 'e', 'f']"
   ]
  },
  {
   "cell_type": "markdown",
   "metadata": {},
   "source": [
    "##### Solution:"
   ]
  },
  {
   "cell_type": "markdown",
   "metadata": {},
   "source": [
    "Use zip() with list()"
   ]
  },
  {
   "cell_type": "code",
   "execution_count": 171,
   "metadata": {
    "collapsed": false
   },
   "outputs": [
    {
     "data": {
      "text/plain": [
       "[(0, 'a'), (1, 'b'), (2, 'c'), (3, 'd'), (4, 'e'), (5, 'f')]"
      ]
     },
     "execution_count": 171,
     "metadata": {},
     "output_type": "execute_result"
    }
   ],
   "source": [
    "list(zip(l0, l1))"
   ]
  },
  {
   "cell_type": "markdown",
   "metadata": {},
   "source": [
    "# 2. Create all products of the two lists"
   ]
  },
  {
   "cell_type": "code",
   "execution_count": 172,
   "metadata": {
    "collapsed": true
   },
   "outputs": [],
   "source": [
    "l0 = [0, 1, 2]\n",
    "l1 = ['a', 'b', 'c']"
   ]
  },
  {
   "cell_type": "markdown",
   "metadata": {},
   "source": [
    "##### Solution:"
   ]
  },
  {
   "cell_type": "markdown",
   "metadata": {},
   "source": [
    "Using list comprehension"
   ]
  },
  {
   "cell_type": "code",
   "execution_count": 173,
   "metadata": {
    "collapsed": false
   },
   "outputs": [
    {
     "data": {
      "text/plain": [
       "[(0, 'a'),\n",
       " (0, 'b'),\n",
       " (0, 'c'),\n",
       " (1, 'a'),\n",
       " (1, 'b'),\n",
       " (1, 'c'),\n",
       " (2, 'a'),\n",
       " (2, 'b'),\n",
       " (2, 'c')]"
      ]
     },
     "execution_count": 173,
     "metadata": {},
     "output_type": "execute_result"
    }
   ],
   "source": [
    "[(i0, i1) for i0 in l0 for i1 in l1]"
   ]
  },
  {
   "cell_type": "markdown",
   "metadata": {},
   "source": [
    "Using product() from itertools with list()"
   ]
  },
  {
   "cell_type": "code",
   "execution_count": 174,
   "metadata": {
    "collapsed": false
   },
   "outputs": [
    {
     "data": {
      "text/plain": [
       "[(0, 'a'),\n",
       " (0, 'b'),\n",
       " (0, 'c'),\n",
       " (1, 'a'),\n",
       " (1, 'b'),\n",
       " (1, 'c'),\n",
       " (2, 'a'),\n",
       " (2, 'b'),\n",
       " (2, 'c')]"
      ]
     },
     "execution_count": 174,
     "metadata": {},
     "output_type": "execute_result"
    }
   ],
   "source": [
    "from itertools import product\n",
    "\n",
    "list(product(l0, l1))"
   ]
  },
  {
   "cell_type": "markdown",
   "metadata": {},
   "source": [
    "#  3. Sort the list"
   ]
  },
  {
   "cell_type": "markdown",
   "metadata": {},
   "source": [
    "Do not do it manually ;)"
   ]
  },
  {
   "cell_type": "code",
   "execution_count": 175,
   "metadata": {
    "collapsed": true
   },
   "outputs": [],
   "source": [
    "l = [12.34, 'z', 3, 'a', 8, 'd', 16.6]"
   ]
  },
  {
   "cell_type": "markdown",
   "metadata": {},
   "source": [
    "#####  Solution:"
   ]
  },
  {
   "cell_type": "markdown",
   "metadata": {},
   "source": [
    "Split the list into strings and numbers first. Than use sorted on both list and combien them."
   ]
  },
  {
   "cell_type": "code",
   "execution_count": 176,
   "metadata": {
    "collapsed": false
   },
   "outputs": [
    {
     "data": {
      "text/plain": [
       "[3, 8, 12.34, 16.6, 'a', 'd', 'z']"
      ]
     },
     "execution_count": 176,
     "metadata": {},
     "output_type": "execute_result"
    }
   ],
   "source": [
    "l_str = [i for i in l if isinstance(i, str)]\n",
    "l_nr = [i for i in l if isinstance(i, (float, int))]\n",
    "                                   \n",
    "sorted(l_nr) + sorted(l_str)"
   ]
  },
  {
   "cell_type": "markdown",
   "metadata": {},
   "source": [
    "# 4. Filter the list "
   ]
  },
  {
   "cell_type": "markdown",
   "metadata": {},
   "source": [
    "Filter out all the negativ numbers."
   ]
  },
  {
   "cell_type": "code",
   "execution_count": 177,
   "metadata": {
    "collapsed": false
   },
   "outputs": [],
   "source": [
    "import random\n",
    "\n",
    "random_data = [random.random() - 0.5 for _ in range(10000)]"
   ]
  },
  {
   "cell_type": "markdown",
   "metadata": {},
   "source": [
    "#####  Solution:"
   ]
  },
  {
   "cell_type": "code",
   "execution_count": 178,
   "metadata": {
    "collapsed": false
   },
   "outputs": [
    {
     "data": {
      "text/plain": [
       "[-0.4165685020738821,\n",
       " -0.09260743159935081,\n",
       " -0.03504080593663883,\n",
       " -0.2768584480917988,\n",
       " -0.39163074678826015,\n",
       " -0.18299228715681282,\n",
       " -0.25972723662348896,\n",
       " -0.2978799639514299,\n",
       " -0.2716618824167748,\n",
       " -0.10348632486883058]"
      ]
     },
     "execution_count": 178,
     "metadata": {},
     "output_type": "execute_result"
    }
   ],
   "source": [
    "neg_data = [i for i in random_data if i < 0]\n",
    "\n",
    "neg_data[:10]"
   ]
  },
  {
   "cell_type": "markdown",
   "metadata": {},
   "source": [
    "# 5. Create a parabola function"
   ]
  },
  {
   "cell_type": "markdown",
   "metadata": {},
   "source": [
    "Define your own parabola function $f(x) = a (x - b)^2 - c$."
   ]
  },
  {
   "cell_type": "markdown",
   "metadata": {},
   "source": [
    "##### Solution:"
   ]
  },
  {
   "cell_type": "code",
   "execution_count": 179,
   "metadata": {
    "collapsed": false
   },
   "outputs": [
    {
     "data": {
      "text/plain": [
       "-1.0"
      ]
     },
     "execution_count": 179,
     "metadata": {},
     "output_type": "execute_result"
    }
   ],
   "source": [
    "def parabola(x, a = 1, b=0, c=0):\n",
    "    return a * (x - b)**2 - c\n",
    "\n",
    "parabola(0, a = 0.5, b=-2, c=3)"
   ]
  },
  {
   "cell_type": "markdown",
   "metadata": {},
   "source": [
    "# 6. Plot two parabola in subplots"
   ]
  },
  {
   "cell_type": "markdown",
   "metadata": {},
   "source": [
    "Feel free to make it look nice."
   ]
  },
  {
   "cell_type": "code",
   "execution_count": 180,
   "metadata": {
    "collapsed": true
   },
   "outputs": [],
   "source": [
    "import matplotlib.pyplot as plt\n",
    "%matplotlib inline"
   ]
  },
  {
   "cell_type": "markdown",
   "metadata": {},
   "source": [
    "\n",
    "##### Solution:"
   ]
  },
  {
   "cell_type": "code",
   "execution_count": 181,
   "metadata": {
    "collapsed": false
   },
   "outputs": [
    {
     "data": {
      "image/png": "[encoded data removed]",
      "text/plain": [
       "<matplotlib.figure.Figure at 0x7f3563a29d68>"
      ]
     },
     "metadata": {},
     "output_type": "display_data"
    }
   ],
   "source": [
    "fig, axs = plt.subplots(1, 2, figsize=(14,4))\n",
    "\n",
    "x_data0 = [8 * x /1000 for x in range(-1000, 500)]\n",
    "p0 = [parabola(x, a=2, b=-2, c=-3) for x in x_data0]\n",
    "axs[0].plot(x_data0, p0, color='green', ls=':', lw=2,  marker='D', markevery=50, ms=5, label=r'$f(x) = 2 (x + 2)^2 + 3$')\n",
    "\n",
    "x_data1 = [8 * x /1000 for x in range(-500, 1000)]\n",
    "p1 = [parabola(x, a=2, b=2, c=-3) for x in x_data1]\n",
    "axs[1].plot(x_data1, p1, color='red', ls='--', lw=2,  marker='o', markevery=50, ms=5, label=r'$f(x) = 2 (x - 2)^2 - 3$')\n",
    "\n",
    "for ax in axs:\n",
    "    ax.legend(loc=9)"
   ]
  },
  {
   "cell_type": "markdown",
   "metadata": {},
   "source": [
    "# 7. Differntiate a sin function numerical"
   ]
  },
  {
   "cell_type": "markdown",
   "metadata": {},
   "source": [
    "Use the given dataset"
   ]
  },
  {
   "cell_type": "code",
   "execution_count": 182,
   "metadata": {
    "collapsed": true
   },
   "outputs": [],
   "source": [
    "import math\n",
    "import matplotlib.pyplot as plt\n",
    "%matplotlib inline\n",
    "\n",
    "xdata = [2 *  math.pi  * x / 1000 for x in range(1000)]\n",
    "ydata = [math.sin(x) for x in xdata]"
   ]
  },
  {
   "cell_type": "markdown",
   "metadata": {},
   "source": [
    "##### Solution:"
   ]
  },
  {
   "cell_type": "markdown",
   "metadata": {},
   "source": [
    "Use slicing and zip() to differentiate"
   ]
  },
  {
   "cell_type": "code",
   "execution_count": 183,
   "metadata": {
    "collapsed": false
   },
   "outputs": [],
   "source": [
    "dy_data = [(y1 - y0) / (x1 - x0) for y1, y0, x1, x0 in zip(ydata[1:], ydata[:-1], \n",
    "                                                           xdata[1:], xdata[:-1])]"
   ]
  },
  {
   "cell_type": "markdown",
   "metadata": {},
   "source": [
    "Plot everything"
   ]
  },
  {
   "cell_type": "code",
   "execution_count": 184,
   "metadata": {
    "collapsed": false
   },
   "outputs": [
    {
     "data": {
      "text/plain": [
       "(0, 6.28)"
      ]
     },
     "execution_count": 184,
     "metadata": {},
     "output_type": "execute_result"
    },
    {
     "data": {
      "image/png": "[encoded data removed]",
      "text/plain": [
       "<matplotlib.figure.Figure at 0x7f35637f9ba8>"
      ]
     },
     "metadata": {},
     "output_type": "display_data"
    }
   ],
   "source": [
    "plt.figure(figsize=(12, 3))\n",
    "plt.plot(xdata, ydata, label=r'$sin(x)$')\n",
    "plt.plot(xdata[1:], dy_data, label=r'$\\frac{\\Delta sin(x)}{\\Delta x} $')\n",
    "plt.legend()\n",
    "plt.xlim(0, 6.28)"
   ]
  },
  {
   "cell_type": "markdown",
   "metadata": {},
   "source": [
    "# 8. Smooth some noisy data"
   ]
  },
  {
   "cell_type": "markdown",
   "metadata": {},
   "source": [
    "Use the given dataset"
   ]
  },
  {
   "cell_type": "code",
   "execution_count": 185,
   "metadata": {
    "collapsed": false
   },
   "outputs": [],
   "source": [
    "import math\n",
    "import random\n",
    "import matplotlib.pyplot as plt\n",
    "%matplotlib inline\n",
    "\n",
    "xdata = [4 *  math.pi  * x / 1000 for x in range(1000)]\n",
    "noisy_data = [math.sin(x) + 0.25 * random.random() for x in xdata]"
   ]
  },
  {
   "cell_type": "markdown",
   "metadata": {},
   "source": [
    "##### Solution:"
   ]
  },
  {
   "cell_type": "code",
   "execution_count": 186,
   "metadata": {
    "collapsed": false
   },
   "outputs": [],
   "source": [
    "s = 50\n",
    "smoothed_data = [sum(noisy_data[i:i+s]) / s  for i in range(len(noisy_data) - s)]"
   ]
  },
  {
   "cell_type": "code",
   "execution_count": 187,
   "metadata": {
    "collapsed": false
   },
   "outputs": [
    {
     "data": {
      "text/plain": [
       "(0, 6.28)"
      ]
     },
     "execution_count": 187,
     "metadata": {},
     "output_type": "execute_result"
    },
    {
     "data": {
      "image/png": "[encoded data removed]",
      "text/plain": [
       "<matplotlib.figure.Figure at 0x7f356350e668>"
      ]
     },
     "metadata": {},
     "output_type": "display_data"
    }
   ],
   "source": [
    "plt.figure(figsize=(12,3))\n",
    "plt.plot(xdata, noisy_data, ls='', marker='.', ms=3)\n",
    "plt.plot(xdata[s//2:-s//2], smoothed_data, color='red', lw=3)\n",
    "\n",
    "plt.xlim(0, 6.28)"
   ]
  },
  {
   "cell_type": "markdown",
   "metadata": {},
   "source": [
    "# 9. Create a Histogram"
   ]
  },
  {
   "cell_type": "markdown",
   "metadata": {},
   "source": [
    "Create a histogram from the poisson data array. Do not use any build in numpy or histogram plot function."
   ]
  },
  {
   "cell_type": "code",
   "execution_count": 188,
   "metadata": {
    "collapsed": false
   },
   "outputs": [
    {
     "name": "stdout",
     "output_type": "stream",
     "text": [
      "45 46 41 59 59 ... 52 43 57 37 45\n"
     ]
    }
   ],
   "source": [
    "from numpy.random import poisson\n",
    "\n",
    "data = poisson(lam = 50, size=int(10e6))\n",
    "\n",
    "# Don't worry too much about the next line it just prints nicely\n",
    "print(str(data[:5])[1:-1], '...', str(data[-5:])[1:-1])"
   ]
  },
  {
   "cell_type": "markdown",
   "metadata": {},
   "source": [
    "##### Solution:"
   ]
  },
  {
   "cell_type": "markdown",
   "metadata": {},
   "source": [
    "Using python build in dict and check for key with if in"
   ]
  },
  {
   "cell_type": "code",
   "execution_count": 189,
   "metadata": {
    "collapsed": true
   },
   "outputs": [],
   "source": [
    "histo = {}\n",
    "\n",
    "for value in data:\n",
    "    if value in histo:\n",
    "        histo[value] += 1\n",
    "    else:\n",
    "        histo[value] = 1"
   ]
  },
  {
   "cell_type": "markdown",
   "metadata": {},
   "source": [
    "Using python build in dict and exceptions"
   ]
  },
  {
   "cell_type": "code",
   "execution_count": 190,
   "metadata": {
    "collapsed": true
   },
   "outputs": [],
   "source": [
    "histo = {}\n",
    "\n",
    "for value in data:\n",
    "    try:\n",
    "        histo[value] += 1\n",
    "    except KeyError:\n",
    "        histo[value] = 1"
   ]
  },
  {
   "cell_type": "markdown",
   "metadata": {},
   "source": [
    "Using the defaultdict() from collections with int()"
   ]
  },
  {
   "cell_type": "code",
   "execution_count": 191,
   "metadata": {
    "collapsed": false
   },
   "outputs": [],
   "source": [
    "from collections import defaultdict\n",
    "\n",
    "histo = defaultdict(int)\n",
    "\n",
    "for value in data:\n",
    "    histo[value] += 1"
   ]
  },
  {
   "cell_type": "markdown",
   "metadata": {},
   "source": [
    "Using counter from collections"
   ]
  },
  {
   "cell_type": "code",
   "execution_count": 192,
   "metadata": {
    "collapsed": false
   },
   "outputs": [],
   "source": [
    "from collections import Counter\n",
    "\n",
    "histo = Counter(data)"
   ]
  },
  {
   "cell_type": "code",
   "execution_count": 193,
   "metadata": {
    "collapsed": false
   },
   "outputs": [
    {
     "data": {
      "text/plain": [
       "Counter({18: 1,\n",
       "         19: 1,\n",
       "         20: 1,\n",
       "         21: 22,\n",
       "         22: 39,\n",
       "         23: 77,\n",
       "         24: 169,\n",
       "         25: 380,\n",
       "         26: 707,\n",
       "         27: 1302,\n",
       "         28: 2307,\n",
       "         29: 4056,\n",
       "         30: 6826,\n",
       "         31: 11043,\n",
       "         32: 17168,\n",
       "         33: 25976,\n",
       "         34: 37881,\n",
       "         35: 54191,\n",
       "         36: 74980,\n",
       "         37: 102276,\n",
       "         38: 134738,\n",
       "         39: 172624,\n",
       "         40: 214789,\n",
       "         41: 261717,\n",
       "         42: 313190,\n",
       "         43: 363709,\n",
       "         44: 412979,\n",
       "         45: 457188,\n",
       "         46: 496264,\n",
       "         47: 530984,\n",
       "         48: 553238,\n",
       "         49: 563630,\n",
       "         50: 563414,\n",
       "         51: 552311,\n",
       "         52: 531440,\n",
       "         53: 500941,\n",
       "         54: 463259,\n",
       "         55: 421020,\n",
       "         56: 377327,\n",
       "         57: 329483,\n",
       "         58: 284815,\n",
       "         59: 240677,\n",
       "         60: 201030,\n",
       "         61: 164407,\n",
       "         62: 132798,\n",
       "         63: 105167,\n",
       "         64: 82491,\n",
       "         65: 63351,\n",
       "         66: 47745,\n",
       "         67: 35867,\n",
       "         68: 26029,\n",
       "         69: 18937,\n",
       "         70: 13683,\n",
       "         71: 9513,\n",
       "         72: 6662,\n",
       "         73: 4422,\n",
       "         74: 3103,\n",
       "         75: 2036,\n",
       "         76: 1326,\n",
       "         77: 875,\n",
       "         78: 509,\n",
       "         79: 347,\n",
       "         80: 209,\n",
       "         81: 147,\n",
       "         82: 88,\n",
       "         83: 44,\n",
       "         84: 34,\n",
       "         85: 14,\n",
       "         86: 12,\n",
       "         87: 8,\n",
       "         88: 2,\n",
       "         90: 3,\n",
       "         92: 1})"
      ]
     },
     "execution_count": 193,
     "metadata": {},
     "output_type": "execute_result"
    }
   ],
   "source": [
    "histo"
   ]
  },
  {
   "cell_type": "markdown",
   "metadata": {},
   "source": [
    "# 10. Write your own histogram plotting function"
   ]
  },
  {
   "cell_type": "markdown",
   "metadata": {},
   "source": [
    "Wrap it around the plt.plot function so you can use all of its arguments"
   ]
  },
  {
   "cell_type": "code",
   "execution_count": 194,
   "metadata": {
    "collapsed": true
   },
   "outputs": [],
   "source": [
    "import matplotlib.pyplot as plt\n",
    "%matplotlib inline"
   ]
  },
  {
   "cell_type": "markdown",
   "metadata": {},
   "source": [
    "##### Solution:"
   ]
  },
  {
   "cell_type": "code",
   "execution_count": 200,
   "metadata": {
    "collapsed": true
   },
   "outputs": [],
   "source": [
    "from collections import Counter\n",
    "\n",
    "def plot_histogram(data, normed=False, *args, **kwargs):\n",
    "    \n",
    "    histo = Counter(data)\n",
    "    \n",
    "    bins = list(histo.keys())\n",
    "    freqs = list(histo.values())\n",
    "    \n",
    "    if normed:\n",
    "        n = sum(freqs)\n",
    "        freqs = [freq / n for freq in freqs]\n",
    "    \n",
    "    plt.plot(bins, freqs, *args, **kwargs)"
   ]
  },
  {
   "cell_type": "code",
   "execution_count": 202,
   "metadata": {
    "collapsed": false
   },
   "outputs": [
    {
     "data": {
      "image/png": "[encoded data removed]",
      "text/plain": [
       "<matplotlib.figure.Figure at 0x7f3563346f98>"
      ]
     },
     "metadata": {},
     "output_type": "display_data"
    }
   ],
   "source": [
    "plot_histogram(data, normed=True, ls='--', marker='o', ms=5, color='red')"
   ]
  },
  {
   "cell_type": "markdown",
   "metadata": {
    "collapsed": true
   },
   "source": [
    "# 11. Draw a ASCII chrismas tree and write it to a file"
   ]
  },
  {
   "cell_type": "markdown",
   "metadata": {},
   "source": [
    "Merry christmas. Feel free to add some UNICODE decoration."
   ]
  },
  {
   "cell_type": "markdown",
   "metadata": {},
   "source": [
    "##### Solution: "
   ]
  },
  {
   "cell_type": "code",
   "execution_count": 205,
   "metadata": {
    "collapsed": false
   },
   "outputs": [
    {
     "name": "stdout",
     "output_type": "stream",
     "text": [
      "\n",
      "           ★\n",
      "          ★★★\n",
      "           ★\n",
      "           #\n",
      "          ###\n",
      "         #####\n",
      "        #######\n",
      "       #########\n",
      "      ###########\n",
      "     #############\n",
      "    ###############\n",
      "   #################\n",
      "  ###################\n",
      " #####################\n",
      "#######################\n",
      "           H\n",
      "           H\n",
      "           H\n",
      "\n"
     ]
    }
   ],
   "source": [
    "...\n",
    "\n",
    "print(tree(12), star=True)"
   ]
  }
 ],
 "metadata": {
  "kernelspec": {
   "display_name": "Python 3",
   "language": "python",
   "name": "python3"
  },
  "language_info": {
   "codemirror_mode": {
    "name": "ipython",
    "version": 3
   },
   "file_extension": ".py",
   "mimetype": "text/x-python",
   "name": "python",
   "nbconvert_exporter": "python",
   "pygments_lexer": "ipython3",
   "version": "3.5.0"
  }
 },
 "nbformat": 4,
 "nbformat_minor": 0
}
